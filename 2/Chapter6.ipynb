{
 "cells": [
  {
   "attachments": {
    "image.png": {
     "image/png": "[encoded data removed]"
    }
   },
   "cell_type": "markdown",
   "metadata": {},
   "source": [
    "# 6. 일반선형모델\n",
    "<br/>\n",
    "<br/>\n",
    "\n",
    "<hr/>\n",
    "<br/>\n",
    "\n",
    "\n",
    "## 6.1 여러가지 확률 분포\n",
    "#### 이항 분포 , 푸아송 분포 등 확률분포에 대해 알아보자!\n",
    "<br/>\n",
    "\n",
    "<strong>이항확률변수란?</strong>\n",
    "- 2개의 값만 가지는 확률 변수. ex) 있다 없다, 0 1, 앞 뒤\n",
    "\n",
    "\n",
    "<strong> 베르누이 시행</strong>\n",
    "- 2 종류의 결과 중 하나만 발생시키는 시행. ex) 동전 던지기!\n",
    "\n",
    "<strong> 성공확률 </strong>\n",
    "- 2 종류의 결과 중 어느 한쪽의 결과를 얻을 확률. ex) 동전 던졌을 때 앞이 나올 확률\n",
    "\n",
    "<strong> 베르누이 분포 </strong>\n",
    "- 베르누이 시행이 일어날 때 이항확률변수가 따르는 확률분포. \n",
    "- ex) 동전을 한번 던져서 앞이 나올지 뒤가 나올지 확률.\n",
    "\n",
    "<br/>\n",
    "\n",
    "<div align=\"center\">\n",
    "p(X=1) = p  <br/>\n",
    "p(X=0) = 1 - p <br/>\n",
    "x는 이항확률변수, p 는 성공확률 (x=1 이 나올 경우)\n",
    "</div>\n",
    "\n",
    "<br/>\n",
    "\n",
    "### 그렇다면 이항분포는 무엇일까?\n",
    "> 성공확률이 p 면서 N 회의 독립 베르누이 시행 (동전던지기!) 을 했을 때 성공한 횟수 m 이 따르는 이산형 확률 분포.<br/>\n",
    " m의 기댓값은 Np , 분산은 Np(1-p) 로 계산 (N 은 시행횟수, p 는 성공확률)\n",
    " \n",
    "#### 이항분포의 확률질량 함수\n",
    "![image.png](attachment:image.png)\n",
    "\n",
    "Ex) 동전을 6번 던져서 3번만 앞면이 나올 경우?\n",
    "\n",
    "$\\frac{6!}{3!(6-3)!}$ $p^3$$(1-p)^3$"
   ]
  },
  {
   "cell_type": "markdown",
   "metadata": {},
   "source": [
    "## 이항분포 실습"
   ]
  },
  {
   "cell_type": "code",
   "execution_count": 4,
   "metadata": {},
   "outputs": [],
   "source": [
    "## 분석 준비 ##\n",
    "\n",
    "# 수치 계산에 사용하는 라이브러리\n",
    "import numpy as np\n",
    "import pandas as pd\n",
    "import scipy as sp #과학기술계산을 위한 라이브러리\n",
    "from scipy import stats #이항분포에 관한 계산을 제공\n",
    "\n",
    "#그래프를 그리기 위한 라이브러리\n",
    "from matplotlib import pyplot as plt\n",
    "import seaborn as sns\n",
    "sns.set()\n",
    "\n",
    "#표시 자릿수 지정\n",
    "%precision 3\n",
    "\n",
    "#그래프를 주피터 노트북에 그리기 위한 설정\n",
    "%matplotlib inline"
   ]
  },
  {
   "cell_type": "markdown",
   "metadata": {},
   "source": [
    "1. 앞이 나올 확률이 1/2 인 동전을 2 번 던져서 , 2번 중 1번이 앞면일 확률은? (확률질량함수 계산)"
   ]
  },
  {
   "cell_type": "code",
   "execution_count": 5,
   "metadata": {},
   "outputs": [
    {
     "data": {
      "text/plain": [
       "0.5"
      ]
     },
     "execution_count": 5,
     "metadata": {},
     "output_type": "execute_result"
    }
   ],
   "source": [
    "# pmf : Probability Mass Function\n",
    "# k : 성공횟수, n : 시행횟수, p: 성공확률 \n",
    "\n",
    "sp.stats.binom.pmf(k=1,n=2,p=0.5)"
   ]
  },
  {
   "cell_type": "markdown",
   "metadata": {},
   "source": [
    "2. 앞이 나올 확률이 20% 인 동전을 10 번 던졌을 때 앞이 나온 수를 세는 시행을 5번 반복하기"
   ]
  },
  {
   "cell_type": "code",
   "execution_count": 8,
   "metadata": {},
   "outputs": [
    {
     "data": {
      "text/plain": [
       "array([3, 1, 2, 4, 3])"
      ]
     },
     "execution_count": 8,
     "metadata": {},
     "output_type": "execute_result"
    }
   ],
   "source": [
    "# 난수생성: sp.stats.binom.rvs\n",
    "\n",
    "np.random.seed(32) #seed가 바뀌면 경우가 다르게 나온다!\n",
    "sp.stats.binom.rvs(n=10,p=0.2,size=5)"
   ]
  },
  {
   "cell_type": "markdown",
   "metadata": {},
   "source": [
    "3. 난수의 히스토그램과 이항분포의 확률질량 함수에서 계산된 확률을 겹쳐서 그래프로 그려보기."
   ]
  },
  {
   "cell_type": "code",
   "execution_count": 10,
   "metadata": {
    "scrolled": true
   },
   "outputs": [
    {
     "data": {
      "text/plain": [
       "[<matplotlib.lines.Line2D at 0x1220d0fdb80>]"
      ]
     },
     "execution_count": 10,
     "metadata": {},
     "output_type": "execute_result"
    },
    {
     "data": {
      "image/png": "[encoded data removed]",
      "text/plain": [
       "<Figure size 432x288 with 1 Axes>"
      ]
     },
     "metadata": {
      "needs_background": "light"
     },
     "output_type": "display_data"
    }
   ],
   "source": [
    "#N=10, p=0.2인 이항 분포\n",
    "binomial=sp.stats.binom(n=10,p=0.2)\n",
    "\n",
    "#난수\n",
    "np.random.seed(1)\n",
    "rvs_binomial=binomial.rvs(size=10000)\n",
    "\n",
    "#확률밀도함수\n",
    "m=np.arange(0,10,1) #0~9개 나올 각 확률\n",
    "pmf_binomial=binomial.pmf(k=m)\n",
    "\n",
    "\n",
    "#난수의 히스토그램과 확률질량함수를 겹쳐서 그리기\n",
    "\n",
    "#난수\n",
    "sns.distplot(rvs_binomial,bins=m,kde=False,\n",
    "            norm_hist=True, color=\"blue\")\n",
    "\n",
    "#확률밀도\n",
    "plt.plot(m,pmf_binomial,color=\"black\")"
   ]
  },
  {
   "cell_type": "markdown",
   "metadata": {},
   "source": [
    "히스토그램? 수치형 데이터 분포를 표현해주는 그래프. bins는 x축. 막대갯수"
   ]
  },
  {
   "attachments": {
    "image.png": {
     "image/png": "[encoded data removed]"
    }
   },
   "cell_type": "markdown",
   "metadata": {},
   "source": [
    "<hr/>\n",
    "\n",
    "## 푸아송 분포\n",
    "\n",
    "- <strong>푸아송 분포</strong>란 1개 또는 2개, 1회 또는 2회 등의 <strong>카운트데이터</strong>가 따르는 이산형 확률분포 (?) \n",
    "- 단위 시간 or 단위 공간에서 어떤 사건이 발생하는 횟수를 나타내는 확률분포!\n",
    "- ex) 낚시대를 바꾸면 잡아 올리는 물고기 수가 달라지는지, 날씨에 따라 상품의 판매 개수가 얼마나 달라지는지 등...\n",
    "\n",
    "### 푸아송 분포의 확률질량함수\n",
    "![image.png](attachment:image.png)\n",
    "<p> $x$ : 이산형 확률변수(카운트데이터) <br/>\n",
    "$\\lambda$ : 푸아송 분포의 강도 (일이 일어날 횟수에 대한 기댓값)\t</p>\n",
    "<p style=\"color:red\">특정 시간 안에 어떤 사건이 일어날 횟수에 대한 기댓값을 $\\lambda$ 라고 했을 때 그 사건이 $x$회 일어날 확률 <p>\n",
    "\n",
    "### 이항분포와 푸아송 분포의 관계?\n",
    "*푸아송 분포는 성공확률이 한없이 0 에 가깝지만 시행횟수가 무한히 많은 이항분포*\n",
    "\n",
    "<hr/>"
   ]
  },
  {
   "cell_type": "markdown",
   "metadata": {},
   "source": [
    "## 푸아송 분포 실습\n",
    "푸아송 분포의 확률질량함수는 sp.stats.possion.pmf를 이용!"
   ]
  },
  {
   "cell_type": "code",
   "execution_count": 11,
   "metadata": {},
   "outputs": [
    {
     "data": {
      "text/plain": [
       "0.08422433748856832"
      ]
     },
     "execution_count": 11,
     "metadata": {},
     "output_type": "execute_result"
    }
   ],
   "source": [
    "# 강도가 5인 푸아송 분포에서 어떤 값 2를 얻을 확률 \n",
    "# 평균값(기댓값)이 5 일 때 2라는 값을 얻을 확률!\n",
    "\n",
    "sp.stats.poisson.pmf(k=2,mu=5)"
   ]
  },
  {
   "cell_type": "code",
   "execution_count": 13,
   "metadata": {},
   "outputs": [
    {
     "data": {
      "text/plain": [
       "array([1, 3, 2, 0, 2, 4, 3])"
      ]
     },
     "execution_count": 13,
     "metadata": {},
     "output_type": "execute_result"
    }
   ],
   "source": [
    "#강도가 2인 푸아송 분포를 따르는 난수.\n",
    "np.random.seed(10)\n",
    "sp.stats.poisson.rvs(mu=2,size=7)"
   ]
  },
  {
   "cell_type": "markdown",
   "metadata": {},
   "source": [
    "#### 푸아송 분포에서 난수의 히스토그램과 확률질량함수 비교"
   ]
  },
  {
   "cell_type": "code",
   "execution_count": 14,
   "metadata": {},
   "outputs": [
    {
     "data": {
      "text/plain": [
       "[<matplotlib.lines.Line2D at 0x1220d179670>]"
      ]
     },
     "execution_count": 14,
     "metadata": {},
     "output_type": "execute_result"
    },
    {
     "data": {
      "image/png": "[encoded data removed]",
      "text/plain": [
       "<Figure size 432x288 with 1 Axes>"
      ]
     },
     "metadata": {
      "needs_background": "light"
     },
     "output_type": "display_data"
    }
   ],
   "source": [
    "# 강도가 2인 푸아송 분포\n",
    "poisson=sp.stats.poisson(mu=2)\n",
    "\n",
    "#난수\n",
    "np.random.seed(32)\n",
    "rvs_poisson=poisson.rvs(size=10000)\n",
    "\n",
    "m=np.arange(0,10,1) #0~9개 나올 각 확률\n",
    "\n",
    "#확률질량함수\n",
    "pmf_poisson=poisson.pmf(k=m)\n",
    "\n",
    "#난수의 히스토그램과 확률질량함수를 겹쳐서 그리기\n",
    "sns.distplot(rvs_poisson, bins=m, kde=False,\n",
    "            norm_hist=True, color='red')\n",
    "\n",
    "plt.plot(m,pmf_poisson,color=\"black\")"
   ]
  },
  {
   "cell_type": "markdown",
   "metadata": {},
   "source": [
    "#### 푸아송 분포와 이항분포의 관계 확인.\n",
    "시행횟수를 매우 크게, 성공확률을 0에 매우 근접하고 이항분포의 확률질량 함수와 강도가 2인 푸아송 분포의 확률 질량함수 비교 ( 단, $Np=\\lambda$)"
   ]
  },
  {
   "cell_type": "code",
   "execution_count": 15,
   "metadata": {},
   "outputs": [
    {
     "data": {
      "text/plain": [
       "[<matplotlib.lines.Line2D at 0x1220d1e5250>]"
      ]
     },
     "execution_count": 15,
     "metadata": {},
     "output_type": "execute_result"
    },
    {
     "data": {
      "image/png": "[encoded data removed]",
      "text/plain": [
       "<Figure size 432x288 with 1 Axes>"
      ]
     },
     "metadata": {
      "needs_background": "light"
     },
     "output_type": "display_data"
    }
   ],
   "source": [
    "#N이  크고 p 가 작은 이항분포\n",
    "N=100000000\n",
    "p=0.00000002\n",
    "binomial_2=sp.stats.binom(n=N,p=p)\n",
    "\n",
    "#확률질량함수\n",
    "m=np.arange(0,10,1)\n",
    "pmf_binomial_2=binomial_2.pmf(k=m)\n",
    "\n",
    "#확률질량의 그래프\n",
    "plt.plot(m,pmf_poisson,color='red') #강도 2의 푸아송 분포\n",
    "plt.plot(m,pmf_binomial_2,color=\"black\",linestyle='dotted')"
   ]
  },
  {
   "cell_type": "markdown",
   "metadata": {},
   "source": [
    " 확률분포는 이 외에도 음이항분포, 감마분포,지수형 분포 등이 있다...<br/>\n",
    " *309페이지 참조*"
   ]
  },
  {
   "attachments": {
    "image.png": {
     "image/png": "[encoded data removed]"
    }
   },
   "cell_type": "markdown",
   "metadata": {},
   "source": [
    "<hr/>\n",
    "\n",
    "## 6.2 일반선형모델의 기본\n",
    "일반선형모델(Generalized Linear Models) 을 이용해 분류 문제와 회귀 문제를 통일성 있게 취급 가능!\n",
    "\n",
    "<br/>\n",
    "\n",
    "### 일반선형모델의 세가지 구성요소\n",
    "1. 모집단이 따르는 확률 분포\n",
    "2. 선형예측자\n",
    "3. 링크함수\n",
    "\n",
    "<strong>일반선형모델은 정규분포, 이항분포, 푸아송 분포 등에 적용 가능!</strong>\n",
    "\n",
    "### 선형예측자?\n",
    "- 독립변수를 선형의 관계식으로 표현한 것.\n",
    "- 종속변수 (y) 를 독립변수 (x) 에서 예측하는 관계식\n",
    "<br/>\n",
    "<div align=\"center\">\n",
    "$\\beta_{0}$+$\\beta_{1}$$x$</div>\n",
    "\n",
    "### 링크 함수\n",
    "- 종속변수와 선형예측자를 서로 대응시키기 위해 사용\n",
    "<div align=\"center\">\n",
    "$y=\\beta_{0}$+$\\beta_{1}$$x$</div>\n",
    "- ex) 독립변수 기온에 따른 맥주 판매 개수를 구한다.<br/>\n",
    "    맥주 판매 개수 = $\\beta_{0}$+$\\beta_{1}\\times$기온<br/>\n",
    "<br/>\n",
    "- 위의 식에선 맥주판매 개수가 마이너스 될 가능성이 있음. 하지만 맥주 판매 개수는 절대 마이너스가 될 일이 없다! <br/>\n",
    "=> 종속변수가 음수가 될 수 없는 log 함수 사용!<br/>\n",
    "$\\log [맥주 판매 개수]=$$\\beta_{0}$+$\\beta_{1}\\times$기온<br/>\n",
    "\n",
    "\n",
    "### 링크함수와 확률분포의 대응\n",
    "각 확률분포에서 사용하는 링크함수\n",
    "![image.png](attachment:image.png)\n",
    "\n",
    "항등함수? $f(x)=x$ <br/>\n",
    "정규분포에선 독립변수에 대해 아무런 변환도 하지 않는다!\n",
    "\n",
    "### 일반선형모델의 파라미터 추정\n",
    " - 최대우도법에 의한 파라미터 추정을 함 (일반선형모델에선 정규분포 이외의 확률분포가 사용되는 경우도 있기 때문)\n",
    "\n",
    "### 일반선형모델을 이용한 검정 방법\n",
    "- 이 책에선 AIC 를 사용한 방법을 씀\n",
    "\n",
    "> #### 세가지 검정 방법\n",
    "1. Wald 검정 <br/>\n",
    "    : 샘플사이즈가 클 때 추정값이 정규분포를 따르는 것을 이용  \n",
    "      일반선형모델에서는 회귀계수의 t 검정을 실시할 수 없어서 이용됨\n",
    "2. 우도비 검정<br/>\n",
    "    : 모델의 적합도를 비교하는 방법\n",
    "3. 스코어 검정 (별로 사용 x)\n",
    "\n",
    "<hr/>"
   ]
  },
  {
   "attachments": {
    "image.png": {
     "image/png": "[encoded data removed]"
    }
   },
   "cell_type": "markdown",
   "metadata": {},
   "source": [
    "\n",
    "## 6.3 로지스틱 회귀\n",
    "\n",
    "로지스틱 회귀는 이항분포를 사용함. 링크함수에 로짓함수를 사용한 일반선형 모델임\n",
    "\n",
    "앞서 배운 링크함수의 선형예측자 ($\\beta_{0}$+$\\beta_{1}$$x$) 를 이용해서 이항분포 ( 2개의 결과만 가짐)의 예측자를 만들어보자\n",
    "<br/>\n",
    "ex) 시험의 합격(1), 불합격(0)<br/>\n",
    "시험의 합불(합격1,불합격0) = $\\beta_{0}$+$\\beta_{1}\\times$$공부시간$  => 일차함수론 당연 불가능!\n",
    "\n",
    "시험 합격률을 종속변수로 해도 값이 [0,1] 사이이므로 선형예측자로는 불가능\n",
    "\n",
    "### 로짓함수\n",
    "로짓함수로 이항분포 함수를 만들 수 있다.<br/>\n",
    "$f(x)=\\log{x \\over 1-x}$\n",
    "\n",
    "### 역함수\n",
    "어떤 함수 $f(a)=b$ 에 대해 $g(b)=a$가 되는 함수 (x,y가 바뀐 함수) <br/>\n",
    "ex) 지수함수의 역함수는 로그함수!\n",
    "\n",
    "<br/>\n",
    "\n",
    "## 로지스틱 함수\n",
    "로지스틱 함수는 로짓함수의 역함수! <br/>\n",
    "로짓함수 f(x), 로지스틱함수 g(x) => $g(f(x))=x$\n",
    "\n",
    "$g(y)={1 \\over 1+e^{-y}}$\n",
    "\n",
    "#### 로지스틱 함수의 특징\n",
    "y -> $\\infty$ 일 때 g(y) -> 1 <br/>\n",
    "y -> $-\\infty$ 일 때 g(y) -> 0 <br/>\n",
    "따라서 g(y)는 절대 0 미만이거나 1을 초과하지 않는다!\n",
    "\n",
    "### 로지스틱 회귀의 구조\n",
    "성공확률(시험의 합격률) p 에 대해 링크함수의 로짓함수를 적용하면 독립변수인 합격률과 공부시간의 관계를 다음과 같이 나타낼 수 있다.<br/>\n",
    "<div align=\"center\">$\\log{p \\over 1-p}=\\beta_{0}$+$\\beta_{1}\\times공부시간$</div>\n",
    "\n",
    "그렇다면 합격률 p 에 대해서는 다음처럼 나타낼 수 있다.\n",
    "<div align=\"center\">$p={1 \\over 1+\\exp[-(\\beta_{0}+\\beta_{1}\\times공부시간)]}$</div>\n",
    "\n",
    "실제 시험의 합불 데이터를 얻었다고 했을 때, 공부시간이 동일하게 5시간인 학생 10명이 있다고 하자. 그러면 합격자수 M은 성공확률이 시행횟수(표본 10명)인 이항분포를 따른다고 할 수 있다.\n",
    "![image.png](attachment:image.png)\n",
    "이 식과 같이 <strong>확률분포</strong> 를 따르는 표본을 얻었다고 생각하는 것이 로지스틱 회귀!"
   ]
  },
  {
   "attachments": {
    "image.png": {
     "image/png": "[encoded data removed]"
    }
   },
   "cell_type": "markdown",
   "metadata": {},
   "source": [
    "이항분포의 확률질량함수는 다음과 같음\n",
    "![image.png](attachment:image.png)\n",
    "\n",
    "### 로지스틱 회귀의 우도함수\n",
    "*우도함수 : 파라미터를 넘겨서 우도(파라미터가 정해져 있을 때 표본을 얻을 수 있는 확률) 를 계산할 수 있는 함수 (p.231 4.4)*<br/>\n",
    "\n",
    "계수 $\\beta_{0}$, $\\beta_{1}$ 의 추정에 대해 배워보자<br/>\n",
    "일반선형모델에서는 *최대우도법* 으로 파라미터를 추정한다! <br/><br/>\n",
    "아래의 data를 얻었을 때\n",
    "<div align=\"center\">\n",
    "- 공부시간이 3시간인 학생 9명 중 4명이 합격했다.<br/>\n",
    "- 공부시간이 5시간인 학생 8명 중 6명이 합격했다.<br/>\n",
    "- 공부시간이 8시간인 학생 1명 중 1명이 합격했다.<br/>\n",
    "</div>\n",
    "이때의 우도함수는 다음과 같다"
   ]
  },
  {
   "attachments": {
    "image.png": {
     "image/png": "[encoded data removed]"
    }
   },
   "cell_type": "markdown",
   "metadata": {},
   "source": [
    "![image.png](attachment:image.png)"
   ]
  },
  {
   "cell_type": "markdown",
   "metadata": {},
   "source": [
    "## 실습\n",
    "\n",
    "#### 분석 준비"
   ]
  },
  {
   "cell_type": "code",
   "execution_count": 22,
   "metadata": {},
   "outputs": [],
   "source": [
    "# 수치 계산에 사용하는 라이브러리\n",
    "import numpy as np\n",
    "import pandas as pd\n",
    "import scipy as sp\n",
    "from scipy import stats\n",
    "\n",
    "#그래프를 그리기 위한 라이브러리\n",
    "from matplotlib import pyplot as plt\n",
    "import seaborn as sns\n",
    "sns.set()\n",
    "\n",
    "#통계모델을 추정하는 데 사용하는 라이브러리\n",
    "import statsmodels.formula.api as smf\n",
    "import statsmodels.api as sm\n",
    "\n",
    "# 표시 자릿수 지정\n",
    "%precision 3\n",
    "\n",
    "#그래프를 주피터 노트북에 그리기 위한 설정\n",
    "%matplotlib inline"
   ]
  },
  {
   "cell_type": "markdown",
   "metadata": {},
   "source": [
    "csv 파일 다운\n",
    "http://www.hanbit.co.kr/src/10245"
   ]
  },
  {
   "cell_type": "code",
   "execution_count": 18,
   "metadata": {},
   "outputs": [
    {
     "name": "stdout",
     "output_type": "stream",
     "text": [
      "    hours  result\n",
      "0       0       0\n",
      "1       0       0\n",
      "2       0       0\n",
      "3       0       0\n",
      "4       0       0\n",
      "..    ...     ...\n",
      "95      9       1\n",
      "96      9       1\n",
      "97      9       1\n",
      "98      9       1\n",
      "99      9       1\n",
      "\n",
      "[100 rows x 2 columns]\n"
     ]
    }
   ],
   "source": [
    "#분석할 데이터 읽어오기 (제공해주는 파일 다운)\n",
    "test_result=pd.read_csv(\"6-3-1-logistic-regression.csv\")\n",
    "print(test_result)"
   ]
  },
  {
   "cell_type": "markdown",
   "metadata": {},
   "source": [
    "hours : 공부시간, result : 시험의 합격 여부 (1: 합격, 0: 불합격)\n",
    "<br/>\n",
    "### 공부시간과 합격률의 관계 그래프로 그리기\n",
    "x축: 공부시간, y축: 합격률"
   ]
  },
  {
   "cell_type": "code",
   "execution_count": 19,
   "metadata": {},
   "outputs": [
    {
     "data": {
      "text/plain": [
       "<matplotlib.axes._subplots.AxesSubplot at 0x1220d211a60>"
      ]
     },
     "execution_count": 19,
     "metadata": {},
     "output_type": "execute_result"
    },
    {
     "data": {
      "image/png": "[encoded data removed]",
      "text/plain": [
       "<Figure size 432x288 with 1 Axes>"
      ]
     },
     "metadata": {
      "needs_background": "light"
     },
     "output_type": "display_data"
    }
   ],
   "source": [
    "#seaborn 사용\n",
    "\n",
    "sns.barplot(x=\"hours\",y=\"result\",data=test_result,palette=\"gray_r\")"
   ]
  },
  {
   "cell_type": "code",
   "execution_count": 20,
   "metadata": {},
   "outputs": [
    {
     "data": {
      "text/html": [
       "<div>\n",
       "<style scoped>\n",
       "    .dataframe tbody tr th:only-of-type {\n",
       "        vertical-align: middle;\n",
       "    }\n",
       "\n",
       "    .dataframe tbody tr th {\n",
       "        vertical-align: top;\n",
       "    }\n",
       "\n",
       "    .dataframe thead th {\n",
       "        text-align: right;\n",
       "    }\n",
       "</style>\n",
       "<table border=\"1\" class=\"dataframe\">\n",
       "  <thead>\n",
       "    <tr style=\"text-align: right;\">\n",
       "      <th></th>\n",
       "      <th>result</th>\n",
       "    </tr>\n",
       "    <tr>\n",
       "      <th>hours</th>\n",
       "      <th></th>\n",
       "    </tr>\n",
       "  </thead>\n",
       "  <tbody>\n",
       "    <tr>\n",
       "      <th>0</th>\n",
       "      <td>0.0</td>\n",
       "    </tr>\n",
       "    <tr>\n",
       "      <th>1</th>\n",
       "      <td>0.0</td>\n",
       "    </tr>\n",
       "    <tr>\n",
       "      <th>2</th>\n",
       "      <td>0.1</td>\n",
       "    </tr>\n",
       "    <tr>\n",
       "      <th>3</th>\n",
       "      <td>0.1</td>\n",
       "    </tr>\n",
       "    <tr>\n",
       "      <th>4</th>\n",
       "      <td>0.4</td>\n",
       "    </tr>\n",
       "    <tr>\n",
       "      <th>5</th>\n",
       "      <td>0.4</td>\n",
       "    </tr>\n",
       "    <tr>\n",
       "      <th>6</th>\n",
       "      <td>0.9</td>\n",
       "    </tr>\n",
       "    <tr>\n",
       "      <th>7</th>\n",
       "      <td>0.8</td>\n",
       "    </tr>\n",
       "    <tr>\n",
       "      <th>8</th>\n",
       "      <td>0.9</td>\n",
       "    </tr>\n",
       "    <tr>\n",
       "      <th>9</th>\n",
       "      <td>1.0</td>\n",
       "    </tr>\n",
       "  </tbody>\n",
       "</table>\n",
       "</div>"
      ],
      "text/plain": [
       "       result\n",
       "hours        \n",
       "0         0.0\n",
       "1         0.0\n",
       "2         0.1\n",
       "3         0.1\n",
       "4         0.4\n",
       "5         0.4\n",
       "6         0.9\n",
       "7         0.8\n",
       "8         0.9\n",
       "9         1.0"
      ]
     },
     "execution_count": 20,
     "metadata": {},
     "output_type": "execute_result"
    }
   ],
   "source": [
    "#공부시간마다의 합격률 계산\n",
    "#시간으로 그룹화하여 평균값 계산\n",
    "\n",
    "test_result.groupby(\"hours\").mean()"
   ]
  },
  {
   "cell_type": "markdown",
   "metadata": {},
   "source": [
    "### 로지스틱 회귀 실습\n",
    "\n",
    "로지스틱 회귀모델 추정 <br/>\n",
    "일반선형모델을 추정할 땐 smf.glm 함수를 사용!"
   ]
  },
  {
   "cell_type": "code",
   "execution_count": 23,
   "metadata": {},
   "outputs": [],
   "source": [
    "mod_glm=smf.glm(formula=\"result ~ hours\",\n",
    "               data=test_result,\n",
    "               family=sm.families.Binomial()).fit()"
   ]
  },
  {
   "cell_type": "markdown",
   "metadata": {},
   "source": [
    "#### 파라미터 설명\n",
    "- formula= 종속변수 ~ 독립변수 (5.3.5)\n",
    "- data : 넣을 data (pandas 데이터프레임)\n",
    "- family : 확률분포 지정.\n",
    "- 이항분포: sm.families.Binomial() (기본적으로 로짓함수 지정), 푸아송 분포: sm.families.Poission() (로그함수)\n",
    "- 명시적으로 로짓함수 지정<br/> sm.families.Binomial(link=sm.families.links.logit)"
   ]
  },
  {
   "cell_type": "code",
   "execution_count": 24,
   "metadata": {},
   "outputs": [
    {
     "data": {
      "text/html": [
       "<table class=\"simpletable\">\n",
       "<caption>Generalized Linear Model Regression Results</caption>\n",
       "<tr>\n",
       "  <th>Dep. Variable:</th>        <td>result</td>      <th>  No. Observations:  </th>  <td>   100</td> \n",
       "</tr>\n",
       "<tr>\n",
       "  <th>Model:</th>                  <td>GLM</td>       <th>  Df Residuals:      </th>  <td>    98</td> \n",
       "</tr>\n",
       "<tr>\n",
       "  <th>Model Family:</th>        <td>Binomial</td>     <th>  Df Model:          </th>  <td>     1</td> \n",
       "</tr>\n",
       "<tr>\n",
       "  <th>Link Function:</th>         <td>logit</td>      <th>  Scale:             </th> <td>  1.0000</td>\n",
       "</tr>\n",
       "<tr>\n",
       "  <th>Method:</th>                <td>IRLS</td>       <th>  Log-Likelihood:    </th> <td> -34.014</td>\n",
       "</tr>\n",
       "<tr>\n",
       "  <th>Date:</th>            <td>Sun, 31 Jan 2021</td> <th>  Deviance:          </th> <td>  68.028</td>\n",
       "</tr>\n",
       "<tr>\n",
       "  <th>Time:</th>                <td>20:23:23</td>     <th>  Pearson chi2:      </th>  <td>  84.9</td> \n",
       "</tr>\n",
       "<tr>\n",
       "  <th>No. Iterations:</th>          <td>6</td>        <th>                     </th>     <td> </td>   \n",
       "</tr>\n",
       "<tr>\n",
       "  <th>Covariance Type:</th>     <td>nonrobust</td>    <th>                     </th>     <td> </td>   \n",
       "</tr>\n",
       "</table>\n",
       "<table class=\"simpletable\">\n",
       "<tr>\n",
       "      <td></td>         <th>coef</th>     <th>std err</th>      <th>z</th>      <th>P>|z|</th>  <th>[0.025</th>    <th>0.975]</th>  \n",
       "</tr>\n",
       "<tr>\n",
       "  <th>Intercept</th> <td>   -4.5587</td> <td>    0.901</td> <td>   -5.061</td> <td> 0.000</td> <td>   -6.324</td> <td>   -2.793</td>\n",
       "</tr>\n",
       "<tr>\n",
       "  <th>hours</th>     <td>    0.9289</td> <td>    0.174</td> <td>    5.345</td> <td> 0.000</td> <td>    0.588</td> <td>    1.270</td>\n",
       "</tr>\n",
       "</table>"
      ],
      "text/plain": [
       "<class 'statsmodels.iolib.summary.Summary'>\n",
       "\"\"\"\n",
       "                 Generalized Linear Model Regression Results                  \n",
       "==============================================================================\n",
       "Dep. Variable:                 result   No. Observations:                  100\n",
       "Model:                            GLM   Df Residuals:                       98\n",
       "Model Family:                Binomial   Df Model:                            1\n",
       "Link Function:                  logit   Scale:                          1.0000\n",
       "Method:                          IRLS   Log-Likelihood:                -34.014\n",
       "Date:                Sun, 31 Jan 2021   Deviance:                       68.028\n",
       "Time:                        20:23:23   Pearson chi2:                     84.9\n",
       "No. Iterations:                     6                                         \n",
       "Covariance Type:            nonrobust                                         \n",
       "==============================================================================\n",
       "                 coef    std err          z      P>|z|      [0.025      0.975]\n",
       "------------------------------------------------------------------------------\n",
       "Intercept     -4.5587      0.901     -5.061      0.000      -6.324      -2.793\n",
       "hours          0.9289      0.174      5.345      0.000       0.588       1.270\n",
       "==============================================================================\n",
       "\"\"\""
      ]
     },
     "execution_count": 24,
     "metadata": {},
     "output_type": "execute_result"
    }
   ],
   "source": [
    "#로지스틱 회귀 결과 출력\n",
    "mod_glm.summary()"
   ]
  },
  {
   "cell_type": "markdown",
   "metadata": {},
   "source": [
    "Deviance , Pearson chi2 : 모델의 적합도를 나타내는 지표. (Deviance가 크면 모델이 적합하지 않다)<br/>\n",
    "coef는 회귀계수를 뜻함 <br/>\n",
    "hours가 1 증가할때마다 result가 0.9289씩 증가 <br/><br/>\n",
    "<div align=\"center\" style=\"font-size:18px\">\n",
    "$\\log{p \\over 1-p}$=-4.5587 + 0.9289 x hours <br/></div>\n",
    "<br/>\n",
    "\"P>|z| 가 0.05보다 작으면 유의미하다\" => 유의미한 결과임"
   ]
  },
  {
   "cell_type": "markdown",
   "metadata": {},
   "source": [
    "#### AIC\n",
    "- null 모델 (아무런 입력변수를 넣지 않음) 와 공부시간이라는 독립변수가 있는 모델 중 어느 쪽이 더 좋은 모델인지 비교하기\n",
    "\n",
    "<br/>\n",
    "null모델 추정"
   ]
  },
  {
   "cell_type": "code",
   "execution_count": 25,
   "metadata": {},
   "outputs": [],
   "source": [
    "mod_glm_null=smf.glm(\"result ~ 1\",\n",
    "                     data=test_result,\n",
    "                     family=sm.families.Binomial()).fit()"
   ]
  },
  {
   "cell_type": "markdown",
   "metadata": {},
   "source": [
    "AIC 비교"
   ]
  },
  {
   "cell_type": "code",
   "execution_count": 26,
   "metadata": {},
   "outputs": [
    {
     "name": "stdout",
     "output_type": "stream",
     "text": [
      "Null 모델 :  139.989\n",
      "변수가 있는 모델 :  72.028\n"
     ]
    }
   ],
   "source": [
    "#소수점 세자리까지\n",
    "print(\"Null 모델 : \",mod_glm_null.aic.round(3))\n",
    "print(\"변수가 있는 모델 : \",mod_glm.aic.round(3))"
   ]
  },
  {
   "cell_type": "markdown",
   "metadata": {},
   "source": [
    "aic가 더 작은 공부시간 독립변수가 있는 모델이 합격률을 예측하는 데 더 도움이 된다! <br/>\n",
    "(aic이 작을 수록 예측률이 높다)\n",
    "<br/>\n",
    " \n",
    "### 로지스틱 회귀곡선 그래프 그리기"
   ]
  },
  {
   "cell_type": "code",
   "execution_count": 30,
   "metadata": {},
   "outputs": [
    {
     "data": {
      "text/plain": [
       "<seaborn.axisgrid.FacetGrid at 0x1220e28f430>"
      ]
     },
     "execution_count": 30,
     "metadata": {},
     "output_type": "execute_result"
    },
    {
     "data": {
      "image/png": "[encoded data removed]",
      "text/plain": [
       "<Figure size 360x360 with 1 Axes>"
      ]
     },
     "metadata": {
      "needs_background": "light"
     },
     "output_type": "display_data"
    }
   ],
   "source": [
    "sns.lmplot(x=\"hours\",y=\"result\",\n",
    "          data=test_result,\n",
    "          logistic=True,\n",
    "          scatter_kws={\"color\":\"blue\"},\n",
    "          line_kws={\"color\":\"blue\"},\n",
    "          x_jitter=0.1,y_jitter=0.02)\n",
    "\n",
    "#logistic=True : 로지스틱 회귀 그래프\n",
    "#x_jitter , y_jitter: 산포도가 그리는 데이터의 점을 위아래로 흩어지게 하는 설정."
   ]
  },
  {
   "cell_type": "markdown",
   "metadata": {},
   "source": [
    "### 성공확률 예측\n",
    "합격률을 수치로 얻어보자"
   ]
  },
  {
   "cell_type": "code",
   "execution_count": 12,
   "metadata": {},
   "outputs": [
    {
     "data": {
      "text/plain": [
       "array([0, 1, 2, 3, 4, 5, 6, 7, 8, 9])"
      ]
     },
     "execution_count": 12,
     "metadata": {},
     "output_type": "execute_result"
    }
   ],
   "source": [
    "np.arange(0,10,1)"
   ]
  },
  {
   "cell_type": "code",
   "execution_count": 31,
   "metadata": {},
   "outputs": [
    {
     "data": {
      "text/plain": [
       "0    0.010367\n",
       "1    0.025836\n",
       "2    0.062920\n",
       "3    0.145291\n",
       "4    0.300876\n",
       "5    0.521427\n",
       "6    0.733929\n",
       "7    0.874741\n",
       "8    0.946467\n",
       "9    0.978147\n",
       "dtype: float64"
      ]
     },
     "execution_count": 31,
     "metadata": {},
     "output_type": "execute_result"
    }
   ],
   "source": [
    "# 0~9 까지 1씩 증가시키는 등차수열\n",
    "exp_val=pd.DataFrame({\n",
    "    \"hours\":np.arange(0,10,1)\n",
    "})\n",
    "\n",
    "# 성공확률의 예측치\n",
    "pred=mod_glm.predict(exp_val)\n",
    "pred"
   ]
  },
  {
   "cell_type": "markdown",
   "metadata": {},
   "source": [
    "공부시간이 증가할수록 합격률이 증가한다!\n",
    "<br/>\n",
    "#### 용어 설명\n",
    "로지스틱 회귀에서 추정된 계수를 해석하기 위해 필요한 용어\n",
    "<br/>\n",
    "\n",
    "<strong>오즈 (odds)</strong>\n",
    "- 성공/실패 확률. 실패하는 것보다 성공하는 것이 몇 배 더 쉬운가 <br/>\n",
    "&nbsp;&nbsp;&nbsp;&nbsp; p : 성공확률 <br/>\n",
    "<div align=\"center\">오즈 = ${p \\over 1-p}$</div>\n",
    "\n",
    "로그오즈 : 오즈에 로그를 취한 것  &nbsp;&nbsp; $\\log{p \\over 1-p}$\n",
    "\n",
    "#### 오즈비(odd ratio)\n",
    "- 오즈 간에 비율을 취한 것\n",
    "- 로그오즈비 : 오즈비에 로그를 취한 것"
   ]
  },
  {
   "cell_type": "markdown",
   "metadata": {},
   "source": [
    "### 로지스틱 회귀계수와 오즈비의 관계\n",
    "로지스틱 회귀의 계수와 오즈는 밀접한 관계가 있음 <br/>\n",
    "회귀계수는 독립변수를 1 단위 변화시켰을 때의 로그오즈비\n",
    "\n",
    "<br/>\n",
    "<strong>예제</strong><br/>\n",
    "공부시간이 1시간일 때와 2시간일 때의 합격률"
   ]
  },
  {
   "cell_type": "code",
   "execution_count": 35,
   "metadata": {},
   "outputs": [],
   "source": [
    "#공부시간이 1시간일 때의 합격률\n",
    "exp_val_1=pd.DataFrame({\"hours\":[1]})\n",
    "pred_1=mod_glm.predict(exp_val_1)\n",
    "\n",
    "#공부시간이 2시간일 때의 합격률\n",
    "exp_val_2=pd.DataFrame({\"hours\":[2]})\n",
    "pred_2=mod_glm.predict(exp_val_2)"
   ]
  },
  {
   "cell_type": "markdown",
   "metadata": {},
   "source": [
    "합격률을 이용하여 로그오즈비 계산"
   ]
  },
  {
   "cell_type": "code",
   "execution_count": 36,
   "metadata": {},
   "outputs": [
    {
     "name": "stderr",
     "output_type": "stream",
     "text": [
      "<ipython-input-36-e788c2a2e8b1>:6: DeprecationWarning: scipy.log is deprecated and will be removed in SciPy 2.0.0, use numpy.lib.scimath.log instead\n",
      "  sp.log(odds_2/odds_1)\n"
     ]
    },
    {
     "data": {
      "text/plain": [
       "array([0.929])"
      ]
     },
     "execution_count": 36,
     "metadata": {},
     "output_type": "execute_result"
    }
   ],
   "source": [
    "#오즈 (성공/실패)\n",
    "odds_1=pred_1/(1-pred_1)\n",
    "odds_2=pred_2/(1-pred_2)\n",
    "\n",
    "#로그오즈비 (2시간공부/1시간공부)\n",
    "sp.log(odds_2/odds_1)"
   ]
  },
  {
   "cell_type": "code",
   "execution_count": 34,
   "metadata": {},
   "outputs": [
    {
     "data": {
      "text/plain": [
       "0.9288901756284955"
      ]
     },
     "execution_count": 34,
     "metadata": {},
     "output_type": "execute_result"
    }
   ],
   "source": [
    "mod_glm.params[\"hours\"]"
   ]
  },
  {
   "cell_type": "markdown",
   "metadata": {},
   "source": [
    "회귀분석에서 공부시간의 계수와 일치한다! <br/>\n",
    "로그오즈비(공부시간 1시간 증가에 따른) = 공부시간 계수 <br/>\n",
    "오즈비 = exp(공부시간 계수)\n"
   ]
  },
  {
   "cell_type": "code",
   "execution_count": 37,
   "metadata": {},
   "outputs": [
    {
     "name": "stderr",
     "output_type": "stream",
     "text": [
      "<ipython-input-37-b5475642cd5c>:1: DeprecationWarning: scipy.exp is deprecated and will be removed in SciPy 2.0.0, use numpy.exp instead\n",
      "  sp.exp(mod_glm.params[\"hours\"])\n"
     ]
    },
    {
     "data": {
      "text/plain": [
       "2.531697877875776"
      ]
     },
     "execution_count": 37,
     "metadata": {},
     "output_type": "execute_result"
    }
   ],
   "source": [
    "sp.exp(mod_glm.params[\"hours\"])"
   ]
  },
  {
   "cell_type": "code",
   "execution_count": 44,
   "metadata": {},
   "outputs": [
    {
     "data": {
      "text/plain": [
       "0    2.531698\n",
       "dtype: float64"
      ]
     },
     "execution_count": 44,
     "metadata": {},
     "output_type": "execute_result"
    }
   ],
   "source": [
    "#오즈비\n",
    "odds_2/odds_1"
   ]
  },
  {
   "cell_type": "markdown",
   "metadata": {},
   "source": [
    "#### 번외\n",
    "그렇다면 <br/>\n",
    "&nbsp; &nbsp; $\\log{p \\over 1-p}$=-4.5587 + 0.9289 x hours <br/>\n",
    "공식도 맞을까?"
   ]
  },
  {
   "cell_type": "code",
   "execution_count": 38,
   "metadata": {},
   "outputs": [
    {
     "name": "stderr",
     "output_type": "stream",
     "text": [
      "<ipython-input-38-7649487654dc>:7: DeprecationWarning: scipy.log is deprecated and will be removed in SciPy 2.0.0, use numpy.lib.scimath.log instead\n",
      "  sp.log(odds_3)\n"
     ]
    },
    {
     "data": {
      "text/plain": [
       "array([-1.772])"
      ]
     },
     "execution_count": 38,
     "metadata": {},
     "output_type": "execute_result"
    }
   ],
   "source": [
    "#공부시간이 3시간일 때의 합격률\n",
    "exp_val_3=pd.DataFrame({\"hours\":[3]})\n",
    "pred_3=mod_glm.predict(exp_val_3)\n",
    "\n",
    "odds_3=pred_3/(1-pred_3) #오즈비 p/(1-p)\n",
    "\n",
    "sp.log(odds_3)"
   ]
  },
  {
   "cell_type": "code",
   "execution_count": 53,
   "metadata": {},
   "outputs": [
    {
     "data": {
      "text/plain": [
       "-1.772"
      ]
     },
     "execution_count": 53,
     "metadata": {},
     "output_type": "execute_result"
    }
   ],
   "source": [
    "-4.5587 + 0.9289*3"
   ]
  },
  {
   "cell_type": "code",
   "execution_count": 39,
   "metadata": {},
   "outputs": [
    {
     "name": "stderr",
     "output_type": "stream",
     "text": [
      "<ipython-input-39-a597a17c57e7>:7: DeprecationWarning: scipy.log is deprecated and will be removed in SciPy 2.0.0, use numpy.lib.scimath.log instead\n",
      "  sp.log(odds_4)\n"
     ]
    },
    {
     "data": {
      "text/plain": [
       "array([-0.843])"
      ]
     },
     "execution_count": 39,
     "metadata": {},
     "output_type": "execute_result"
    }
   ],
   "source": [
    "#공부시간이 4시간일 때의 합격률\n",
    "exp_val_4=pd.DataFrame({\"hours\":[4]})\n",
    "pred_4=mod_glm.predict(exp_val_4)\n",
    "\n",
    "odds_4=pred_4/(1-pred_4) #오즈비 p/(1-p)\n",
    "\n",
    "sp.log(odds_4)"
   ]
  },
  {
   "cell_type": "code",
   "execution_count": 56,
   "metadata": {},
   "outputs": [
    {
     "data": {
      "text/plain": [
       "-0.843"
      ]
     },
     "execution_count": 56,
     "metadata": {},
     "output_type": "execute_result"
    }
   ],
   "source": [
    "-4.5587 + 0.9289*4"
   ]
  },
  {
   "cell_type": "markdown",
   "metadata": {},
   "source": [
    "로짓함수도 시간 증가에 따라 일치하는 걸 확인할 수 있다!"
   ]
  },
  {
   "cell_type": "markdown",
   "metadata": {},
   "source": [
    "<hr/>\n",
    "\n",
    "## 6.4 일반선형모델의 평가\n",
    "일반선형모델에서의 잔차 취급을 설명하고 모델의 손실을 파악해보자 <br/><br/>\n",
    "*잔차는 데이터와 모델의 괴리를 표현하는 중요한 지표!*"
   ]
  },
  {
   "cell_type": "markdown",
   "metadata": {},
   "source": [
    "#### 분석 준비"
   ]
  },
  {
   "cell_type": "code",
   "execution_count": 57,
   "metadata": {},
   "outputs": [],
   "source": [
    "#수치 계산에 사용하는 라이브러리\n",
    "import numpy as np\n",
    "import pandas as pd\n",
    "import scipy as sp\n",
    "from scipy import stats\n",
    "\n",
    "#그래프를 그리기 위한 라이브러리\n",
    "from matplotlib import pyplot as plt\n",
    "import seaborn as sns\n",
    "sns.set()\n",
    "\n",
    "#통계모델을 추정하는 데 사용하는 라이브러리\n",
    "import statsmodels.formula.api as smf\n",
    "import statsmodels.api as sm\n",
    "\n",
    "#표시 자릿수 지정\n",
    "%precision 3\n",
    "\n",
    "#그래프를 주피터 노트북에 그리기 위한 설정\n",
    "%matplotlib inline"
   ]
  },
  {
   "cell_type": "markdown",
   "metadata": {},
   "source": [
    "<strong>6.3 에서 분석한 로지스틱 회귀모델이 데이터에 적합한 모델인지 확인해보자</strong>"
   ]
  },
  {
   "cell_type": "code",
   "execution_count": 40,
   "metadata": {},
   "outputs": [],
   "source": [
    "#데이터 읽어 들이기\n",
    "test_result=pd.read_csv(\"6-3-1-logistic-regression.csv\")\n",
    "\n",
    "#모델링 (로지스틱 회귀분석)\n",
    "mod_glm=smf.glm(\"result~hours\",data=test_result,\n",
    "                family=sm.families.Binomial()).fit()"
   ]
  },
  {
   "attachments": {
    "image.png": {
     "image/png": "[encoded data removed]"
    }
   },
   "cell_type": "markdown",
   "metadata": {},
   "source": [
    "### 피어슨 잔차\n",
    "이항분포에서의 피어슨 잔차 계산 <br/>\n",
    "![image.png](attachment:image.png)\n",
    "y 종속변수, N : 시행횟수, $\\hat{p}$ : 추측한 성공확률 (mod_glm.predict()로 계산한 예측치)"
   ]
  },
  {
   "attachments": {
    "image.png": {
     "image/png": "[encoded data removed]"
    }
   },
   "cell_type": "markdown",
   "metadata": {},
   "source": [
    "하나하나 예측결과의 시행횟수는 당연히 1이므로 *피어슨 잔차*는 실질적으로 다음과 같다\n",
    "![image.png](attachment:image.png)\n",
    "\n",
    "피어슨 잔차의 부모에 있는 $N\\hat{p}$(1- $\\hat{p}$ ) 는 이항분포의 분산 값과 일치 <br/> \n",
    "=> 피어슨 잔차의 분모는 이항분포의 표준편차 <br/>\n",
    " 이항분포의 분산 $Np(1-p)$ 가 가장 클 때는 p=0.5 일 때. 합불 확률이 같을 때 데이터 분산 정도가 제일 클 것! <br/>\n",
    "피어슨 잔차의 제곱합은 <strong>피어슨 카이제곱통계량</strong> 이라고도 하고 모델 적합도의 지표가 된다."
   ]
  },
  {
   "cell_type": "markdown",
   "metadata": {},
   "source": [
    "### 피어슨 잔차 실습"
   ]
  },
  {
   "cell_type": "code",
   "execution_count": 42,
   "metadata": {},
   "outputs": [
    {
     "name": "stderr",
     "output_type": "stream",
     "text": [
      "<ipython-input-42-3a61cc5e4967>:8: DeprecationWarning: scipy.sqrt is deprecated and will be removed in SciPy 2.0.0, use numpy.lib.scimath.sqrt instead\n",
      "  peason_resid=(y-pred)/sp.sqrt(pred*(1-pred))\n"
     ]
    },
    {
     "data": {
      "text/plain": [
       "0   -0.102351\n",
       "1   -0.102351\n",
       "2   -0.102351\n",
       "Name: result, dtype: float64"
      ]
     },
     "execution_count": 42,
     "metadata": {},
     "output_type": "execute_result"
    }
   ],
   "source": [
    "# 예측한 성공확률\n",
    "pred=mod_glm.predict()\n",
    "\n",
    "#종속변수 (시험 합격여부)\n",
    "y=test_result.result\n",
    "\n",
    "#피어슨 잔차\n",
    "peason_resid=(y-pred)/sp.sqrt(pred*(1-pred))\n",
    "peason_resid.head(3)"
   ]
  },
  {
   "cell_type": "markdown",
   "metadata": {},
   "source": [
    "피어슨 잔차가 -0.102351임을 확인할 수 있다."
   ]
  },
  {
   "cell_type": "code",
   "execution_count": 63,
   "metadata": {},
   "outputs": [
    {
     "data": {
      "text/plain": [
       "0   -0.102351\n",
       "1   -0.102351\n",
       "2   -0.102351\n",
       "dtype: float64"
      ]
     },
     "execution_count": 63,
     "metadata": {},
     "output_type": "execute_result"
    }
   ],
   "source": [
    "# 피어슨 잔차는 공식으로 말고 직접 모델에서도 얻을 수 있다\n",
    "# resid_pearson\n",
    "mod_glm.resid_pearson.head(3)"
   ]
  },
  {
   "cell_type": "code",
   "execution_count": 61,
   "metadata": {},
   "outputs": [
    {
     "name": "stderr",
     "output_type": "stream",
     "text": [
      "<ipython-input-61-76965b153964>:2: DeprecationWarning: scipy.sum is deprecated and will be removed in SciPy 2.0.0, use numpy.sum instead\n",
      "  sp.sum(mod_glm.resid_pearson**2)\n"
     ]
    },
    {
     "data": {
      "text/plain": [
       "84.91138782569993"
      ]
     },
     "execution_count": 61,
     "metadata": {},
     "output_type": "execute_result"
    }
   ],
   "source": [
    "# 피어슨 잔차제곱합은 피어슨 카이제곱통계량\n",
    "sp.sum(mod_glm.resid_pearson**2)"
   ]
  },
  {
   "cell_type": "code",
   "execution_count": 43,
   "metadata": {},
   "outputs": [
    {
     "data": {
      "text/plain": [
       "84.91138782569993"
      ]
     },
     "execution_count": 43,
     "metadata": {},
     "output_type": "execute_result"
    }
   ],
   "source": [
    "#피어슨 카이제곱통계량은 summary에서 pearson_chi2를 뜻한다.\n",
    "mod_glm.pearson_chi2"
   ]
  },
  {
   "cell_type": "code",
   "execution_count": 66,
   "metadata": {},
   "outputs": [
    {
     "data": {
      "text/html": [
       "<table class=\"simpletable\">\n",
       "<caption>Generalized Linear Model Regression Results</caption>\n",
       "<tr>\n",
       "  <th>Dep. Variable:</th>        <td>result</td>      <th>  No. Observations:  </th>  <td>   100</td> \n",
       "</tr>\n",
       "<tr>\n",
       "  <th>Model:</th>                  <td>GLM</td>       <th>  Df Residuals:      </th>  <td>    98</td> \n",
       "</tr>\n",
       "<tr>\n",
       "  <th>Model Family:</th>        <td>Binomial</td>     <th>  Df Model:          </th>  <td>     1</td> \n",
       "</tr>\n",
       "<tr>\n",
       "  <th>Link Function:</th>         <td>logit</td>      <th>  Scale:             </th> <td>  1.0000</td>\n",
       "</tr>\n",
       "<tr>\n",
       "  <th>Method:</th>                <td>IRLS</td>       <th>  Log-Likelihood:    </th> <td> -34.014</td>\n",
       "</tr>\n",
       "<tr>\n",
       "  <th>Date:</th>            <td>Fri, 29 Jan 2021</td> <th>  Deviance:          </th> <td>  68.028</td>\n",
       "</tr>\n",
       "<tr>\n",
       "  <th>Time:</th>                <td>21:51:59</td>     <th>  Pearson chi2:      </th>  <td>  84.9</td> \n",
       "</tr>\n",
       "<tr>\n",
       "  <th>No. Iterations:</th>          <td>6</td>        <th>                     </th>     <td> </td>   \n",
       "</tr>\n",
       "<tr>\n",
       "  <th>Covariance Type:</th>     <td>nonrobust</td>    <th>                     </th>     <td> </td>   \n",
       "</tr>\n",
       "</table>\n",
       "<table class=\"simpletable\">\n",
       "<tr>\n",
       "      <td></td>         <th>coef</th>     <th>std err</th>      <th>z</th>      <th>P>|z|</th>  <th>[0.025</th>    <th>0.975]</th>  \n",
       "</tr>\n",
       "<tr>\n",
       "  <th>Intercept</th> <td>   -4.5587</td> <td>    0.901</td> <td>   -5.061</td> <td> 0.000</td> <td>   -6.324</td> <td>   -2.793</td>\n",
       "</tr>\n",
       "<tr>\n",
       "  <th>hours</th>     <td>    0.9289</td> <td>    0.174</td> <td>    5.345</td> <td> 0.000</td> <td>    0.588</td> <td>    1.270</td>\n",
       "</tr>\n",
       "</table>"
      ],
      "text/plain": [
       "<class 'statsmodels.iolib.summary.Summary'>\n",
       "\"\"\"\n",
       "                 Generalized Linear Model Regression Results                  \n",
       "==============================================================================\n",
       "Dep. Variable:                 result   No. Observations:                  100\n",
       "Model:                            GLM   Df Residuals:                       98\n",
       "Model Family:                Binomial   Df Model:                            1\n",
       "Link Function:                  logit   Scale:                          1.0000\n",
       "Method:                          IRLS   Log-Likelihood:                -34.014\n",
       "Date:                Fri, 29 Jan 2021   Deviance:                       68.028\n",
       "Time:                        21:51:59   Pearson chi2:                     84.9\n",
       "No. Iterations:                     6                                         \n",
       "Covariance Type:            nonrobust                                         \n",
       "==============================================================================\n",
       "                 coef    std err          z      P>|z|      [0.025      0.975]\n",
       "------------------------------------------------------------------------------\n",
       "Intercept     -4.5587      0.901     -5.061      0.000      -6.324      -2.793\n",
       "hours          0.9289      0.174      5.345      0.000       0.588       1.270\n",
       "==============================================================================\n",
       "\"\"\""
      ]
     },
     "execution_count": 66,
     "metadata": {},
     "output_type": "execute_result"
    }
   ],
   "source": [
    "#summary\n",
    "mod_glm.summary()"
   ]
  },
  {
   "cell_type": "markdown",
   "metadata": {},
   "source": [
    "## deviance\n",
    "- deviance(디비언스) 는 모델의 적합도를 평가하는 지표\n",
    "- deviance가 크면 모델이 적합하지 않다고 평가\n",
    "<br/>\n",
    "로지스틱 회귀 계수에 근거한 로그우도 $\\log\\mathcal{L}(\\beta_{glm};y)$와 모든 합격여부를 완전히 예측할 수 있을 때의 로그우도 $\\log{\\mathcal{L}(\\beta_{max};y)}$ 를 가지고 deviance를 다음과 같이 계산 가능 <br/>\n",
    "<div align=\"center\">$deviance=2[\\log\\mathcal{L}(\\beta_{max};y)-\\log\\mathcal{L}(\\beta_{glm};y)]$</div> <br/>\n",
    "deviance는 잔차제곱합을 우도처럼 표현한 것.<br/>\n",
    "$\\mathcal{L}(\\theta) = \\theta \\times (1-\\theta)$\n",
    "\n",
    "#### deviance 와 우도비 검정\n",
    "- deviance 계산할 때 로그우도 차이에 2 를 곱한 이유는 우도비 검정할 때 편하기 때문.\n",
    "- 우도비 검정? deviance 차이를 검정하는 것"
   ]
  },
  {
   "cell_type": "markdown",
   "metadata": {},
   "source": [
    "### deviance 잔차 계산 코드\n",
    "deviance 잔차는 deviance 잔차제곱합이 deviance가 된다는 사실로 계산한다 <br/><br/>\n",
    "\n",
    "deviance 잔차 계산 <br/>\n",
    "\n",
    "*합격여부를 완전히 예측할 수 있을 때 ($\\log{\\mathcal{L}(\\beta_{max};y)}$ ) 의 로그우도는 $\\log(1)$ 즉 0이다!* <br/>\n",
    "성공확률 100%일 때 합격할 확률은 1이고 성공확률 0%일 때 실패확률도 1이기 때문"
   ]
  },
  {
   "cell_type": "code",
   "execution_count": 66,
   "metadata": {},
   "outputs": [
    {
     "name": "stderr",
     "output_type": "stream",
     "text": [
      "<ipython-input-66-ad5a6ae7046a>:8: DeprecationWarning: scipy.log is deprecated and will be removed in SciPy 2.0.0, use numpy.lib.scimath.log instead\n",
      "  resid_tmp=0-sp.log(sp.stats.binom.pmf(k=y,n=1,p=pred))\n",
      "<ipython-input-66-ad5a6ae7046a>:12: DeprecationWarning: scipy.sqrt is deprecated and will be removed in SciPy 2.0.0, use numpy.lib.scimath.sqrt instead\n",
      "  deviance_resid=sp.sqrt(2*resid_tmp)*np.sign(y-pred)\n"
     ]
    },
    {
     "data": {
      "text/plain": [
       "0   -0.144369\n",
       "1   -0.144369\n",
       "2   -0.144369\n",
       "Name: result, dtype: float64"
      ]
     },
     "execution_count": 66,
     "metadata": {},
     "output_type": "execute_result"
    }
   ],
   "source": [
    "# 예측한 성공확률\n",
    "pred=mod_glm.predict()\n",
    "\n",
    "# 종속변수(테스트 합격여부)\n",
    "y=test_result.result\n",
    "\n",
    "# 합격여부를 완전히 예측할 수 있을 때의 로그우도 - 모델의 로그우도\n",
    "resid_tmp=0-sp.log(sp.stats.binom.pmf(k=y,n=1,p=pred)) \n",
    "#pmf : 확률질량함수 계산. k : 성공횟수, n : 시행횟수, p: 성공확률\n",
    "\n",
    "#deviance 잔차\n",
    "deviance_resid=sp.sqrt(2*resid_tmp)*np.sign(y-pred)\n",
    "#sqrt는 제곱근\n",
    "# np.sign은 괄호 안의 플러스마이너스 기호를 반환해줌.\n",
    "\n",
    "#결과 확인\n",
    "deviance_resid.head(3)"
   ]
  },
  {
   "cell_type": "markdown",
   "metadata": {},
   "source": [
    "회귀 모델에서도 deviance 잔차 제공"
   ]
  },
  {
   "cell_type": "code",
   "execution_count": 82,
   "metadata": {},
   "outputs": [
    {
     "data": {
      "text/plain": [
       "0   -0.144369\n",
       "1   -0.144369\n",
       "2   -0.144369\n",
       "dtype: float64"
      ]
     },
     "execution_count": 82,
     "metadata": {},
     "output_type": "execute_result"
    }
   ],
   "source": [
    "# 모델에서도 deviance 잔차를 얻을 수 있다.\n",
    "mod_glm.resid_deviance.head(3)"
   ]
  },
  {
   "cell_type": "markdown",
   "metadata": {},
   "source": [
    "deviance 잔차 제곱합은 deviance가 됨"
   ]
  },
  {
   "cell_type": "code",
   "execution_count": 83,
   "metadata": {},
   "outputs": [
    {
     "name": "stderr",
     "output_type": "stream",
     "text": [
      "<ipython-input-83-42bda98c5217>:1: DeprecationWarning: scipy.sum is deprecated and will be removed in SciPy 2.0.0, use numpy.sum instead\n",
      "  sp.sum(mod_glm.resid_deviance**2)\n"
     ]
    },
    {
     "data": {
      "text/plain": [
       "68.0278811811727"
      ]
     },
     "execution_count": 83,
     "metadata": {},
     "output_type": "execute_result"
    }
   ],
   "source": [
    "sp.sum(mod_glm.resid_deviance**2)"
   ]
  },
  {
   "cell_type": "code",
   "execution_count": 44,
   "metadata": {},
   "outputs": [
    {
     "data": {
      "text/html": [
       "<table class=\"simpletable\">\n",
       "<caption>Generalized Linear Model Regression Results</caption>\n",
       "<tr>\n",
       "  <th>Dep. Variable:</th>        <td>result</td>      <th>  No. Observations:  </th>  <td>   100</td> \n",
       "</tr>\n",
       "<tr>\n",
       "  <th>Model:</th>                  <td>GLM</td>       <th>  Df Residuals:      </th>  <td>    98</td> \n",
       "</tr>\n",
       "<tr>\n",
       "  <th>Model Family:</th>        <td>Binomial</td>     <th>  Df Model:          </th>  <td>     1</td> \n",
       "</tr>\n",
       "<tr>\n",
       "  <th>Link Function:</th>         <td>logit</td>      <th>  Scale:             </th> <td>  1.0000</td>\n",
       "</tr>\n",
       "<tr>\n",
       "  <th>Method:</th>                <td>IRLS</td>       <th>  Log-Likelihood:    </th> <td> -34.014</td>\n",
       "</tr>\n",
       "<tr>\n",
       "  <th>Date:</th>            <td>Sun, 31 Jan 2021</td> <th>  Deviance:          </th> <td>  68.028</td>\n",
       "</tr>\n",
       "<tr>\n",
       "  <th>Time:</th>                <td>23:14:58</td>     <th>  Pearson chi2:      </th>  <td>  84.9</td> \n",
       "</tr>\n",
       "<tr>\n",
       "  <th>No. Iterations:</th>          <td>6</td>        <th>                     </th>     <td> </td>   \n",
       "</tr>\n",
       "<tr>\n",
       "  <th>Covariance Type:</th>     <td>nonrobust</td>    <th>                     </th>     <td> </td>   \n",
       "</tr>\n",
       "</table>\n",
       "<table class=\"simpletable\">\n",
       "<tr>\n",
       "      <td></td>         <th>coef</th>     <th>std err</th>      <th>z</th>      <th>P>|z|</th>  <th>[0.025</th>    <th>0.975]</th>  \n",
       "</tr>\n",
       "<tr>\n",
       "  <th>Intercept</th> <td>   -4.5587</td> <td>    0.901</td> <td>   -5.061</td> <td> 0.000</td> <td>   -6.324</td> <td>   -2.793</td>\n",
       "</tr>\n",
       "<tr>\n",
       "  <th>hours</th>     <td>    0.9289</td> <td>    0.174</td> <td>    5.345</td> <td> 0.000</td> <td>    0.588</td> <td>    1.270</td>\n",
       "</tr>\n",
       "</table>"
      ],
      "text/plain": [
       "<class 'statsmodels.iolib.summary.Summary'>\n",
       "\"\"\"\n",
       "                 Generalized Linear Model Regression Results                  \n",
       "==============================================================================\n",
       "Dep. Variable:                 result   No. Observations:                  100\n",
       "Model:                            GLM   Df Residuals:                       98\n",
       "Model Family:                Binomial   Df Model:                            1\n",
       "Link Function:                  logit   Scale:                          1.0000\n",
       "Method:                          IRLS   Log-Likelihood:                -34.014\n",
       "Date:                Sun, 31 Jan 2021   Deviance:                       68.028\n",
       "Time:                        23:14:58   Pearson chi2:                     84.9\n",
       "No. Iterations:                     6                                         \n",
       "Covariance Type:            nonrobust                                         \n",
       "==============================================================================\n",
       "                 coef    std err          z      P>|z|      [0.025      0.975]\n",
       "------------------------------------------------------------------------------\n",
       "Intercept     -4.5587      0.901     -5.061      0.000      -6.324      -2.793\n",
       "hours          0.9289      0.174      5.345      0.000       0.588       1.270\n",
       "==============================================================================\n",
       "\"\"\""
      ]
     },
     "execution_count": 44,
     "metadata": {},
     "output_type": "execute_result"
    }
   ],
   "source": [
    "#deviance는 summary 함수에서도 제공\n",
    "mod_glm.summary()"
   ]
  },
  {
   "cell_type": "markdown",
   "metadata": {},
   "source": [
    "### 교차 엔트로피 오차\n",
    "- 머신러닝에서 로지스틱 회귀를 교차 엔트로피 오차의 최소화라는 관점으로 자주 설명한다.\n",
    "- 교차 엔트로피 오차를 최소로 하는 것은 deviance 를 최소로 하는 것과 동일, 로지스틱 회귀의 로그우도를 최대로 하는 것과 같다\n",
    "\n",
    "(p.331 6.4.9)"
   ]
  },
  {
   "cell_type": "markdown",
   "metadata": {},
   "source": [
    "<hr/>\n",
    "\n",
    "# 6.5 푸아송 회귀\n",
    "> 푸아송 회귀란? <br/>\n",
    "확률 분포에 푸아송 분포를 사용하고, 링크함수에 로그함수를 사용한 일반선형모델<br/>\n",
    "푸아송 분포 : 단위 시간 or 단위 공간에서 어떤 사건이 발생하는 횟수를 나타내는 확률분포! (6.1.7)<br/>\n",
    "\n",
    "예제) 기온에 따른 맥주 판매 개수 예측 <br/>\n",
    " $\\beta_{0}+\\beta_{1}\\times 기온 (^\\circ C)$ <br/>\n",
    " \n",
    " ### 푸아송 회귀의 구조\n",
    " 링크함수의 로그함수를 사용하면 맥주 판매 개수와 기온의 관계는 다음과 같다 <br/>\n",
    "  $\\log{[맥주 판매 개수]}=\\beta_{0}+\\beta_{1}\\times 기온 (^\\circ C)$ <br/>\n",
    "  => $맥주 판매 개수 = \\exp{[\\beta_{0}+\\beta_{1}\\times기온(^\\circ C)]}$ <br/>\n",
    "  \n",
    "  맥주 판매 개수 Y 는 강도 $\\lambda$, 즉 맥주판매개수 기댓값의 푸아송 분포를 따를 것이다. <br/><br/>\n",
    "<div align=\"center\" style=\"font-size:17px;\">  맥주 판매 개수 : $Y$ ~ $Pois(y|\\exp{[\\beta_{0}+\\beta_{1}\\times기온]})$</div>\n",
    "  \n",
    "<br/>\n",
    "이 때 푸아송 분포의 확률질량함수는 다음과 같다.<br/>\n",
    "<p style=\"font-size:20px\">$Pois(y|\\lambda)={e^{-\\lambda}\\lambda^{y}\\over y!}$</p>"
   ]
  },
  {
   "cell_type": "markdown",
   "metadata": {},
   "source": [
    "#### 분석 준비"
   ]
  },
  {
   "cell_type": "code",
   "execution_count": 86,
   "metadata": {},
   "outputs": [],
   "source": [
    "# 수치 계산에 사용하는 라이브러리\n",
    "import numpy as np\n",
    "import pandas as pd\n",
    "import scipy as sp\n",
    "from scipy import stats\n",
    "\n",
    "# 그래프를 그리기 위한 라이브러리\n",
    "from matplotlib import pyplot as plt\n",
    "import seaborn as sns\n",
    "sns.set()\n",
    "\n",
    "# 통계모델을 추정하는 데 사용하는 라이브러리\n",
    "import statsmodels.formula.api as smf\n",
    "import statsmodels.api as sm\n",
    "\n",
    "# 표시 자릿수 지정\n",
    "%precision 3\n",
    "\n",
    "# 그래프를 주피터 노트북에 그리기 위한 설정\n",
    "%matplotlib inline"
   ]
  },
  {
   "cell_type": "code",
   "execution_count": 45,
   "metadata": {},
   "outputs": [
    {
     "data": {
      "text/html": [
       "<div>\n",
       "<style scoped>\n",
       "    .dataframe tbody tr th:only-of-type {\n",
       "        vertical-align: middle;\n",
       "    }\n",
       "\n",
       "    .dataframe tbody tr th {\n",
       "        vertical-align: top;\n",
       "    }\n",
       "\n",
       "    .dataframe thead th {\n",
       "        text-align: right;\n",
       "    }\n",
       "</style>\n",
       "<table border=\"1\" class=\"dataframe\">\n",
       "  <thead>\n",
       "    <tr style=\"text-align: right;\">\n",
       "      <th></th>\n",
       "      <th>beer_number</th>\n",
       "      <th>temperature</th>\n",
       "    </tr>\n",
       "  </thead>\n",
       "  <tbody>\n",
       "    <tr>\n",
       "      <th>0</th>\n",
       "      <td>6</td>\n",
       "      <td>17.5</td>\n",
       "    </tr>\n",
       "    <tr>\n",
       "      <th>1</th>\n",
       "      <td>11</td>\n",
       "      <td>26.6</td>\n",
       "    </tr>\n",
       "    <tr>\n",
       "      <th>2</th>\n",
       "      <td>2</td>\n",
       "      <td>5.0</td>\n",
       "    </tr>\n",
       "    <tr>\n",
       "      <th>3</th>\n",
       "      <td>4</td>\n",
       "      <td>14.1</td>\n",
       "    </tr>\n",
       "    <tr>\n",
       "      <th>4</th>\n",
       "      <td>2</td>\n",
       "      <td>9.4</td>\n",
       "    </tr>\n",
       "    <tr>\n",
       "      <th>5</th>\n",
       "      <td>2</td>\n",
       "      <td>7.8</td>\n",
       "    </tr>\n",
       "    <tr>\n",
       "      <th>6</th>\n",
       "      <td>3</td>\n",
       "      <td>10.6</td>\n",
       "    </tr>\n",
       "    <tr>\n",
       "      <th>7</th>\n",
       "      <td>5</td>\n",
       "      <td>15.4</td>\n",
       "    </tr>\n",
       "    <tr>\n",
       "      <th>8</th>\n",
       "      <td>6</td>\n",
       "      <td>16.9</td>\n",
       "    </tr>\n",
       "    <tr>\n",
       "      <th>9</th>\n",
       "      <td>7</td>\n",
       "      <td>21.2</td>\n",
       "    </tr>\n",
       "    <tr>\n",
       "      <th>10</th>\n",
       "      <td>6</td>\n",
       "      <td>17.6</td>\n",
       "    </tr>\n",
       "    <tr>\n",
       "      <th>11</th>\n",
       "      <td>11</td>\n",
       "      <td>25.6</td>\n",
       "    </tr>\n",
       "    <tr>\n",
       "      <th>12</th>\n",
       "      <td>4</td>\n",
       "      <td>11.1</td>\n",
       "    </tr>\n",
       "    <tr>\n",
       "      <th>13</th>\n",
       "      <td>16</td>\n",
       "      <td>31.3</td>\n",
       "    </tr>\n",
       "    <tr>\n",
       "      <th>14</th>\n",
       "      <td>4</td>\n",
       "      <td>5.8</td>\n",
       "    </tr>\n",
       "    <tr>\n",
       "      <th>15</th>\n",
       "      <td>13</td>\n",
       "      <td>25.1</td>\n",
       "    </tr>\n",
       "    <tr>\n",
       "      <th>16</th>\n",
       "      <td>5</td>\n",
       "      <td>17.5</td>\n",
       "    </tr>\n",
       "    <tr>\n",
       "      <th>17</th>\n",
       "      <td>7</td>\n",
       "      <td>21.8</td>\n",
       "    </tr>\n",
       "    <tr>\n",
       "      <th>18</th>\n",
       "      <td>3</td>\n",
       "      <td>9.2</td>\n",
       "    </tr>\n",
       "    <tr>\n",
       "      <th>19</th>\n",
       "      <td>5</td>\n",
       "      <td>10.9</td>\n",
       "    </tr>\n",
       "    <tr>\n",
       "      <th>20</th>\n",
       "      <td>14</td>\n",
       "      <td>29.0</td>\n",
       "    </tr>\n",
       "    <tr>\n",
       "      <th>21</th>\n",
       "      <td>22</td>\n",
       "      <td>34.0</td>\n",
       "    </tr>\n",
       "    <tr>\n",
       "      <th>22</th>\n",
       "      <td>7</td>\n",
       "      <td>14.4</td>\n",
       "    </tr>\n",
       "    <tr>\n",
       "      <th>23</th>\n",
       "      <td>11</td>\n",
       "      <td>25.8</td>\n",
       "    </tr>\n",
       "    <tr>\n",
       "      <th>24</th>\n",
       "      <td>18</td>\n",
       "      <td>31.3</td>\n",
       "    </tr>\n",
       "    <tr>\n",
       "      <th>25</th>\n",
       "      <td>17</td>\n",
       "      <td>31.8</td>\n",
       "    </tr>\n",
       "    <tr>\n",
       "      <th>26</th>\n",
       "      <td>2</td>\n",
       "      <td>7.6</td>\n",
       "    </tr>\n",
       "    <tr>\n",
       "      <th>27</th>\n",
       "      <td>2</td>\n",
       "      <td>6.2</td>\n",
       "    </tr>\n",
       "    <tr>\n",
       "      <th>28</th>\n",
       "      <td>4</td>\n",
       "      <td>10.1</td>\n",
       "    </tr>\n",
       "    <tr>\n",
       "      <th>29</th>\n",
       "      <td>16</td>\n",
       "      <td>31.3</td>\n",
       "    </tr>\n",
       "  </tbody>\n",
       "</table>\n",
       "</div>"
      ],
      "text/plain": [
       "    beer_number  temperature\n",
       "0             6         17.5\n",
       "1            11         26.6\n",
       "2             2          5.0\n",
       "3             4         14.1\n",
       "4             2          9.4\n",
       "5             2          7.8\n",
       "6             3         10.6\n",
       "7             5         15.4\n",
       "8             6         16.9\n",
       "9             7         21.2\n",
       "10            6         17.6\n",
       "11           11         25.6\n",
       "12            4         11.1\n",
       "13           16         31.3\n",
       "14            4          5.8\n",
       "15           13         25.1\n",
       "16            5         17.5\n",
       "17            7         21.8\n",
       "18            3          9.2\n",
       "19            5         10.9\n",
       "20           14         29.0\n",
       "21           22         34.0\n",
       "22            7         14.4\n",
       "23           11         25.8\n",
       "24           18         31.3\n",
       "25           17         31.8\n",
       "26            2          7.6\n",
       "27            2          6.2\n",
       "28            4         10.1\n",
       "29           16         31.3"
      ]
     },
     "execution_count": 45,
     "metadata": {},
     "output_type": "execute_result"
    }
   ],
   "source": [
    "# 데이터 읽어오기\n",
    "beer=pd.read_csv(\"6-5-1-poisson-regression.csv\")\n",
    "beer"
   ]
  },
  {
   "cell_type": "markdown",
   "metadata": {},
   "source": [
    "### 푸아송 회귀 실습\n",
    "푸아송 회귀모델 추정하기 <br/>\n",
    "기온(독립변수)에 따른 맥주 판매 개수(종속변수)"
   ]
  },
  {
   "cell_type": "code",
   "execution_count": 46,
   "metadata": {},
   "outputs": [
    {
     "data": {
      "text/html": [
       "<table class=\"simpletable\">\n",
       "<caption>Generalized Linear Model Regression Results</caption>\n",
       "<tr>\n",
       "  <th>Dep. Variable:</th>      <td>beer_number</td>   <th>  No. Observations:  </th>  <td>    30</td> \n",
       "</tr>\n",
       "<tr>\n",
       "  <th>Model:</th>                  <td>GLM</td>       <th>  Df Residuals:      </th>  <td>    28</td> \n",
       "</tr>\n",
       "<tr>\n",
       "  <th>Model Family:</th>         <td>Poisson</td>     <th>  Df Model:          </th>  <td>     1</td> \n",
       "</tr>\n",
       "<tr>\n",
       "  <th>Link Function:</th>          <td>log</td>       <th>  Scale:             </th> <td>  1.0000</td>\n",
       "</tr>\n",
       "<tr>\n",
       "  <th>Method:</th>                <td>IRLS</td>       <th>  Log-Likelihood:    </th> <td> -57.672</td>\n",
       "</tr>\n",
       "<tr>\n",
       "  <th>Date:</th>            <td>Sun, 31 Jan 2021</td> <th>  Deviance:          </th> <td>  5.1373</td>\n",
       "</tr>\n",
       "<tr>\n",
       "  <th>Time:</th>                <td>23:19:09</td>     <th>  Pearson chi2:      </th>  <td>  5.40</td> \n",
       "</tr>\n",
       "<tr>\n",
       "  <th>No. Iterations:</th>          <td>4</td>        <th>                     </th>     <td> </td>   \n",
       "</tr>\n",
       "<tr>\n",
       "  <th>Covariance Type:</th>     <td>nonrobust</td>    <th>                     </th>     <td> </td>   \n",
       "</tr>\n",
       "</table>\n",
       "<table class=\"simpletable\">\n",
       "<tr>\n",
       "       <td></td>          <th>coef</th>     <th>std err</th>      <th>z</th>      <th>P>|z|</th>  <th>[0.025</th>    <th>0.975]</th>  \n",
       "</tr>\n",
       "<tr>\n",
       "  <th>Intercept</th>   <td>    0.4476</td> <td>    0.199</td> <td>    2.253</td> <td> 0.024</td> <td>    0.058</td> <td>    0.837</td>\n",
       "</tr>\n",
       "<tr>\n",
       "  <th>temperature</th> <td>    0.0761</td> <td>    0.008</td> <td>    9.784</td> <td> 0.000</td> <td>    0.061</td> <td>    0.091</td>\n",
       "</tr>\n",
       "</table>"
      ],
      "text/plain": [
       "<class 'statsmodels.iolib.summary.Summary'>\n",
       "\"\"\"\n",
       "                 Generalized Linear Model Regression Results                  \n",
       "==============================================================================\n",
       "Dep. Variable:            beer_number   No. Observations:                   30\n",
       "Model:                            GLM   Df Residuals:                       28\n",
       "Model Family:                 Poisson   Df Model:                            1\n",
       "Link Function:                    log   Scale:                          1.0000\n",
       "Method:                          IRLS   Log-Likelihood:                -57.672\n",
       "Date:                Sun, 31 Jan 2021   Deviance:                       5.1373\n",
       "Time:                        23:19:09   Pearson chi2:                     5.40\n",
       "No. Iterations:                     4                                         \n",
       "Covariance Type:            nonrobust                                         \n",
       "===============================================================================\n",
       "                  coef    std err          z      P>|z|      [0.025      0.975]\n",
       "-------------------------------------------------------------------------------\n",
       "Intercept       0.4476      0.199      2.253      0.024       0.058       0.837\n",
       "temperature     0.0761      0.008      9.784      0.000       0.061       0.091\n",
       "===============================================================================\n",
       "\"\"\""
      ]
     },
     "execution_count": 46,
     "metadata": {},
     "output_type": "execute_result"
    }
   ],
   "source": [
    "mod_pois=smf.glm(\"beer_number ~ temperature\",beer,\n",
    "                family=sm.families.Poisson()).fit()\n",
    "#푸아송 회귀이므로 family=sm.families.Poisson() 라고 지정해준다!\n",
    "\n",
    "mod_pois.summary()"
   ]
  },
  {
   "cell_type": "markdown",
   "metadata": {},
   "source": [
    "$\\beta_{0}$:0.4476,  $\\beta_{1}$:0.0761 <br/>\n",
    "기온이 양수이므로 기온이 오르면 판매개수도 늘어날 것!  <br/>\n",
    "\n",
    "### Null 모델과 변수가 들어간 모델 AIC 비교하기"
   ]
  },
  {
   "cell_type": "code",
   "execution_count": 47,
   "metadata": {},
   "outputs": [],
   "source": [
    "#null 모델 추정\n",
    "mod_pois_null=smf.glm(\"beer_number ~ 1\",data=beer,\n",
    "                     family=sm.families.Poisson()).fit()"
   ]
  },
  {
   "cell_type": "code",
   "execution_count": 48,
   "metadata": {},
   "outputs": [
    {
     "name": "stdout",
     "output_type": "stream",
     "text": [
      "Null 모델  : 223.363\n",
      "변수가 있는 모델   : 119.343\n"
     ]
    }
   ],
   "source": [
    "#AIC 비교\n",
    "print(\"Null 모델  :\",mod_pois_null.aic.round(3))\n",
    "print(\"변수가 있는 모델   :\",mod_pois.aic.round(3))"
   ]
  },
  {
   "cell_type": "markdown",
   "metadata": {},
   "source": [
    "독립변수가 들어간 모델의 AIC가 더 작다. => 기온 독립변수을 적용한 모델이 적합하다. \n",
    "<br/>\n",
    "\n",
    "### 회귀곡선 그래프\n",
    "푸아송 회귀의 경우에는 seaborn 함수로 그릴 수 없으므로 추정된 모델의 예측값을 산포도 위에 덧그리도록 하자"
   ]
  },
  {
   "cell_type": "code",
   "execution_count": 60,
   "metadata": {},
   "outputs": [
    {
     "data": {
      "text/plain": [
       "[<matplotlib.lines.Line2D at 0x1220f4a69d0>]"
      ]
     },
     "execution_count": 60,
     "metadata": {},
     "output_type": "execute_result"
    },
    {
     "data": {
      "image/png": "[encoded data removed]",
      "text/plain": [
       "<Figure size 360x360 with 1 Axes>"
      ]
     },
     "metadata": {
      "needs_background": "light"
     },
     "output_type": "display_data"
    }
   ],
   "source": [
    "# 예측값 작성\n",
    "x_plot=np.arange(0,37) #온도 0~37도\n",
    "pred=mod_pois.predict(pd.DataFrame({\"temperature\":x_plot}))\n",
    "\n",
    "# 회귀곡선을 그리지 않은 lmplot\n",
    "sns.lmplot(y=\"beer_number\",x=\"temperature\",\n",
    "          data=beer,fit_reg=False,\n",
    "          scatter_kws={\"color\":\"black\"})\n",
    "\n",
    "# 회귀곡선을 덧그리기\n",
    "plt.plot(x_plot,pred,color=\"blue\")"
   ]
  },
  {
   "cell_type": "markdown",
   "metadata": {},
   "source": [
    "#### 회귀계수 해석\n",
    "링크함수 - 로그함수의 경우 계수 해석 방법<br/>\n",
    "로그의 특징으로 덧셈이 곱셈이 되기 때문에 (logx + log10 = log10x) <span style=\"color:red\">로그함수에선 기온이 1$^\\circ C$ 오르면 맥주 판매 개수가 Y배 된다</span>\n",
    "\n",
    "<br/>\n",
    "코드로 기온 1$^\\circ C$가 오르면 맥주판매개수가 몇 배 되는지 확인해보기"
   ]
  },
  {
   "cell_type": "code",
   "execution_count": 61,
   "metadata": {},
   "outputs": [
    {
     "data": {
      "text/plain": [
       "0    1.079045\n",
       "dtype: float64"
      ]
     },
     "execution_count": 61,
     "metadata": {},
     "output_type": "execute_result"
    }
   ],
   "source": [
    "# 기온이 1도일 때의 판매 개수의 기댓값\n",
    "exp_val_1=pd.DataFrame({\"temperature\":[1]})\n",
    "pred_1=mod_pois.predict(exp_val_1)\n",
    "\n",
    "# 기온이 2도일 때 판매 개수의 기댓값\n",
    "exp_val_2=pd.DataFrame({\"temperature\":[2]})\n",
    "pred_2=mod_pois.predict(exp_val_2)\n",
    "\n",
    "#기온이 1도에서 2도로 오르면 판매 개수는 몇 배가 되는지 확인\n",
    "pred_2/pred_1"
   ]
  },
  {
   "cell_type": "markdown",
   "metadata": {},
   "source": [
    "대략 1.079배가 되는 걸 확인할 수 있다. <br/>\n",
    "이 결과는 회귀계수에 exp(지수함수)를 취한 값과 동일하다."
   ]
  },
  {
   "cell_type": "code",
   "execution_count": 62,
   "metadata": {},
   "outputs": [
    {
     "data": {
      "text/plain": [
       "0.07607644127717691"
      ]
     },
     "execution_count": 62,
     "metadata": {},
     "output_type": "execute_result"
    }
   ],
   "source": [
    "mod_pois.params[\"temperature\"]"
   ]
  },
  {
   "cell_type": "code",
   "execution_count": 104,
   "metadata": {},
   "outputs": [
    {
     "name": "stderr",
     "output_type": "stream",
     "text": [
      "<ipython-input-104-46b53f7a02bd>:1: DeprecationWarning: scipy.exp is deprecated and will be removed in SciPy 2.0.0, use numpy.exp instead\n",
      "  sp.exp(mod_pois.params[\"temperature\"])\n"
     ]
    },
    {
     "data": {
      "text/plain": [
       "1.079045054586893"
      ]
     },
     "execution_count": 104,
     "metadata": {},
     "output_type": "execute_result"
    }
   ],
   "source": [
    "sp.exp(mod_pois.params[\"temperature\"])"
   ]
  }
 ],
 "metadata": {
  "kernelspec": {
   "display_name": "Python 3",
   "language": "python",
   "name": "python3"
  },
  "language_info": {
   "codemirror_mode": {
    "name": "ipython",
    "version": 3
   },
   "file_extension": ".py",
   "mimetype": "text/x-python",
   "name": "python",
   "nbconvert_exporter": "python",
   "pygments_lexer": "ipython3",
   "version": "3.8.3"
  }
 },
 "nbformat": 4,
 "nbformat_minor": 4
}
